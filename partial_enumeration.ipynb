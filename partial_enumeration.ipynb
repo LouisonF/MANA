{
 "cells": [
  {
   "cell_type": "markdown",
   "id": "acf6e5c6-6c1b-42c1-a834-2c4b65c913f0",
   "metadata": {},
   "source": [
    "### Imports and functions"
   ]
  },
  {
   "cell_type": "code",
   "execution_count": 2,
   "id": "ad68e577-4403-4e6e-ad6c-cf78e4230be3",
   "metadata": {},
   "outputs": [
    {
     "name": "stderr",
     "output_type": "stream",
     "text": [
      "c:\\Users\\louison.fresnais\\AppData\\Local\\miniconda3\\envs\\cobrapy\\lib\\site-packages\\tqdm\\auto.py:21: TqdmWarning: IProgress not found. Please update jupyter and ipywidgets. See https://ipywidgets.readthedocs.io/en/stable/user_install.html\n",
      "  from .autonotebook import tqdm as notebook_tqdm\n"
     ]
    }
   ],
   "source": [
    "# !pip install pandas\n",
    "# !pip install numpy\n",
    "# !pip install dexom-python\n",
    "# !pip install jproperties\n",
    "# !pip install . --users\n",
    "import pandas as pd\n",
    "import numpy as np\n",
    "import os\n",
    "import glob\n",
    "from cobra import io\n",
    "from jproperties import Properties\n",
    "from mana import modelling, batchs, results_processing, dars\n"
   ]
  },
  {
   "attachments": {},
   "cell_type": "markdown",
   "id": "2cc4456d",
   "metadata": {},
   "source": [
    "### Load properties file"
   ]
  },
  {
   "cell_type": "code",
   "execution_count": 3,
   "id": "5a665985",
   "metadata": {},
   "outputs": [],
   "source": [
    "props = Properties()\n",
    "try:\n",
    "    with open('props.properties', 'rb') as config_file:\n",
    "        props.load(config_file)\n",
    "except FileNotFoundError as e:\n",
    "    print(e)\n",
    "    print(\"\\033[91m\\033[1m \"+\"You must provide a props.properties file\"+\" \\033[0m\\033[91m\")"
   ]
  },
  {
   "attachments": {},
   "cell_type": "markdown",
   "id": "261549f1-83fc-4cd9-9af0-95cb15c5e48e",
   "metadata": {},
   "source": [
    "### Load required datasets"
   ]
  },
  {
   "cell_type": "code",
   "execution_count": 4,
   "id": "68be4743",
   "metadata": {},
   "outputs": [
    {
     "name": "stderr",
     "output_type": "stream",
     "text": [
      "100% |########################################################################|\n"
     ]
    }
   ],
   "source": [
    "#Define paths \n",
    "### Load the model \n",
    "model = io.load_json_model(props.get(\"modelFile\").data)\n",
    "if len(props.get(\"modelId\").data) > 0:\n",
    "    model.id = str(props.get(\"modelId\").data)\n",
    "# model.id = 'recon2.2'\n",
    "\n",
    "### Load the metadata file\n",
    "pheno = pd.read_csv(props.get(\"pheno\").data,sep=\"\\t\",index_col=0)\n",
    "\n",
    "### Get relevant data and process it\n",
    "#If cpds is empty, ask the user a list of compounds\n",
    "cpds = str(props.get(\"cpds\").data).split('/')\n",
    "if len(cpds) == 0:\n",
    "    input_buf = ''\n",
    "    while input_buf.lower() != 'stop':\n",
    "        input_buf = input('Provide either a molecule name or stop')\n",
    "        if input_buf.lower() != 'stop':\n",
    "            cpds.append(input_buf)\n",
    "\n",
    "#load barcode processed data\n",
    "gprs = modelling.get_GPR_reactions(model)\n",
    "hgnc_data = pd.read_csv(props.get(\"mappingFile\").data, sep=\"\\t\", dtype='unicode')\n",
    "data = pd.read_csv(props.get(\"data\").data,sep=\"\\t\")"
   ]
  },
  {
   "attachments": {},
   "cell_type": "markdown",
   "id": "91a3bcd6",
   "metadata": {},
   "source": [
    "### Prepare datasets and working env"
   ]
  },
  {
   "cell_type": "code",
   "execution_count": 4,
   "id": "78f30a0d",
   "metadata": {},
   "outputs": [
    {
     "name": "stderr",
     "output_type": "stream",
     "text": [
      "100% |########################################################################|\n",
      "100% |########################################################################|\n",
      "100% |########################################################################|\n"
     ]
    }
   ],
   "source": [
    "#map gene expression identifiers and build sub dataset\n",
    "col_to_add = modelling.identify_model_gene_ids(model)\n",
    "if col_to_add == \"model not implemented\":\n",
    "    print(\"\\033[91m\\033[1m \"+\"Unknown model\"+\" \\033[0m\\033[91m\")\n",
    "data = modelling.map_single_column(data,hgnc_data,col_to_add)\n",
    "barcodes_to_keep = {}\n",
    "subset_data = pd.DataFrame()\n",
    "anot_cols = ['PROBEID','SYMBOL','HGNC ID','ENTREZID','GENENAME','N_GENES_IDENTICAL_PROBE']\n",
    "#build dir and go into the relevant dir\n",
    "dirname = str(props.get(\"working_path\").data)+str(props.get(\"dose\").data).lower()+'_'+str(props.get(\"time\").data).replace(' ','_')\n",
    "if dirname.split(\"/\")[-1] not in os.listdir(str(props.get(\"working_path\").data)):\n",
    "    os.mkdir(dirname)\n",
    "os.chdir(dirname)\n",
    "working_folders = ['batch_full/batch','csvs','full_rxn_enum_set','log_dir','working_full']\n",
    "for name in working_folders:\n",
    "    if name.split('/')[0] not in os.listdir():\n",
    "        if name == \"batch_full/batch\":\n",
    "            os.mkdir(name.split('/')[0])\n",
    "            os.mkdir(name)\n",
    "        else:\n",
    "            os.mkdir(name)\n",
    "            \n",
    "\n",
    "for cpd in str(props.get(\"cpds\").data).split(\"/\"):\n",
    "    barcodes_to_keep[cpd] = list(pheno[(pheno['dose_level'] == props.get(\"dose\").data) & \\\n",
    "                                       (pheno['sacri_period'] == props.get(\"time\").data) & (pheno['compound_name'] == cpd)].index)\n",
    "    if subset_data.shape[0] == 0:\n",
    "        subset_data = pd.DataFrame(data.loc[:,anot_cols+barcodes_to_keep[cpd]])\n",
    "    else:\n",
    "        subset_data = pd.concat([subset_data,pd.DataFrame(data.loc[:,barcodes_to_keep[cpd]])],axis=1)\n",
    "#extract data and binarize with the 75/25 method\n",
    "modelling.preprocess_data(subset_data,col_to_add,model,pickle=False)"
   ]
  },
  {
   "attachments": {},
   "cell_type": "markdown",
   "id": "be6240e9",
   "metadata": {},
   "source": [
    "### Write reaction enum batch scripts"
   ]
  },
  {
   "cell_type": "code",
   "execution_count": 5,
   "id": "4a8076fd-b47c-468d-92a1-2a9d3892d2da",
   "metadata": {},
   "outputs": [],
   "source": [
    "for file in os.listdir('csvs/'):\n",
    "    if \".CEL\" in file:\n",
    "        batchs.write_rxn_enum_script(script_path=str(props.get(\"rxn_enum_script_path\").data),batch_directory='batch_full',\\\n",
    "                                     output_directory='working_full',modelfile='../input_data/recon2v2_biomass_corrected.json',\\\n",
    "                                     weightfile='csvs/'+file,reactionFile=\"../input_data/recon2_2_reactions.csv\", para_batchs=True)"
   ]
  },
  {
   "cell_type": "markdown",
   "id": "36fbc661-e4d2-4d58-bf25-d21e465e12ec",
   "metadata": {},
   "source": [
    "### Launch all the batchs on the cluster\n",
    "To run reaction enum on the cluster, you will need the dexom-python package with its dependencies installed (preferrably in a conda environment ) and CPLEX installed (to install locally on the genotoul cluster)"
   ]
  },
  {
   "cell_type": "markdown",
   "id": "a73ac9f1-e590-4579-9d32-2d326b3fcf4d",
   "metadata": {},
   "source": [
    "### Check that all the batchs are done. If necessary launch the launch_failed_batch_reaction_enum.sh file"
   ]
  },
  {
   "cell_type": "code",
   "execution_count": 6,
   "id": "629941dd-cb38-400f-a4b0-1f2c200fffc2",
   "metadata": {},
   "outputs": [
    {
     "name": "stdout",
     "output_type": "stream",
     "text": [
      "All batchs have been processed\n"
     ]
    }
   ],
   "source": [
    "#go into the relevant dir\n",
    "dirname = str(props.get(\"working_path\").data)+str(props.get(\"dose\").data).lower()+'_'+str(props.get(\"time\").data).replace(' ','_')\n",
    "if os.path.basename(dirname) not in os.path.basename(os.getcwd()):\n",
    "    #if yes then we are back at the root of the notebook, change that\n",
    "    os.chdir(dirname)\n",
    "results_processing.remove_done_batchs('batch_full/batch/','working_full/',relax_param=True)\n",
    "if len(glob.glob('batch_full/batch/*.CEL*.sh',recursive=False))>0:\n",
    "    print(len(glob.glob('batch_full/batch/*.CEL*.sh',recursive=False)),' batchs to relaunch')\n",
    "    raise FileExistsError\n",
    "else:\n",
    "    print(\"All batchs have been processed\")\n"
   ]
  },
  {
   "cell_type": "markdown",
   "id": "79a11f20-05f2-441c-8f3c-de4c5f3e0666",
   "metadata": {},
   "source": [
    "### Concatenate solutions in one csv file per biological condition and replicate"
   ]
  },
  {
   "cell_type": "code",
   "execution_count": 7,
   "id": "3a28f12f-a56b-4d5b-8735-cf4e62fe51b4",
   "metadata": {},
   "outputs": [
    {
     "name": "stderr",
     "output_type": "stream",
     "text": [
      "100%|██████████| 2/2 [00:54<00:00, 27.25s/it]"
     ]
    },
    {
     "name": "stdout",
     "output_type": "stream",
     "text": [
      "End of Queue\n"
     ]
    },
    {
     "name": "stderr",
     "output_type": "stream",
     "text": [
      "\n"
     ]
    },
    {
     "data": {
      "text/plain": [
       "<multiprocessing.queues.JoinableQueue at 0x299ae4a97c0>"
      ]
     },
     "execution_count": 7,
     "metadata": {},
     "output_type": "execute_result"
    }
   ],
   "source": [
    "#go into the relevant dir\n",
    "dirname = str(props.get(\"working_path\").data)+str(props.get(\"dose\").data).lower()+'_'+str(props.get(\"time\").data).replace(' ','_')\n",
    "if os.path.basename(dirname) not in os.path.basename(os.getcwd()):\n",
    "    #if yes then we are back at the root of the notebook, change that\n",
    "    os.chdir(dirname)\n",
    "results_processing.concatenate_solutions(\"working_full\",\"full_rxn_enum_set\",col_index=\"\",ncpus=2)"
   ]
  },
  {
   "cell_type": "markdown",
   "id": "415abe97-4f55-4c7c-9ea9-80b6a43949d3",
   "metadata": {},
   "source": [
    "### Generate batch for diversity enum, starting from full reaction enum results\n",
    "\n",
    "To launch the diversity enum pipeline, you must have finished the following steps:\n",
    "* Full enumeration completed\n",
    "* Proabilities computation on all the solutions"
   ]
  },
  {
   "cell_type": "code",
   "execution_count": 8,
   "id": "75ec4319-86fd-4237-84a3-396a6a7d09f5",
   "metadata": {},
   "outputs": [],
   "source": [
    "#go into the relevant dir\n",
    "dirname = str(props.get(\"working_path\").data)+str(props.get(\"dose\").data).lower()+'_'+str(props.get(\"time\").data).replace(' ','_')\n",
    "if os.path.basename(dirname) not in os.path.basename(os.getcwd()):\n",
    "    #if yes then we are back at the root of the notebook, change that\n",
    "    os.chdir(dirname)\n",
    "working_folders = ['batch_dexom/batch','prev_sol_dir','full_div_enum_set','working_divers']\n",
    "for name in working_folders:\n",
    "    if name.split('/')[0] not in os.listdir():\n",
    "        if name == \"batch_dexom/batch\":\n",
    "            os.mkdir(name.split('/')[0])\n",
    "            os.mkdir(name)\n",
    "        else:\n",
    "            os.mkdir(name)\n",
    "for file in os.listdir('csvs/'):\n",
    "    batchs.write_div_enum_script(script_path=str(props.get(\"div_enum_script_path\").data),batch_directory = 'batch_dexom',\n",
    "                                 rxn_enum_set_dir = 'full_rxn_enum_set',output_directory = 'working_divers',\n",
    "                                   modelfile = '../input_data/recon2v2_biomass_corrected.json',weightfile = 'csvs/'+file,\n",
    "                                     reactionFile = '../input_data/recon2_2_reactions.csv')"
   ]
  },
  {
   "cell_type": "markdown",
   "id": "a825d2b0-d6a4-4253-b1e6-ac6356b9f75b",
   "metadata": {},
   "source": [
    "### Launch all the batchs on the cluster\n",
    "To run reaction enum on the cluster, you will need the dexom-python package with its dependencies installed (preferrably in a conda environment ) and CPLEX installed (to install locally on the genotoul cluster)"
   ]
  },
  {
   "cell_type": "markdown",
   "id": "27ca3c69-d462-474d-b2f5-f8b94e3bdbfb",
   "metadata": {},
   "source": [
    "### Check that all the batchs are done. If necessary launch the launch_failed_batch_reaction_enum.sh file"
   ]
  },
  {
   "cell_type": "code",
   "execution_count": 9,
   "id": "5ee93273-93ee-4a22-81ab-6262c93ae297",
   "metadata": {},
   "outputs": [
    {
     "name": "stdout",
     "output_type": "stream",
     "text": [
      "0  batchs to relaunch\n"
     ]
    }
   ],
   "source": [
    "#go into the relevant dir\n",
    "dirname = str(props.get(\"working_path\").data)+str(props.get(\"dose\").data).lower()+'_'+str(props.get(\"time\").data).replace(' ','_')\n",
    "if os.path.basename(dirname) not in os.path.basename(os.getcwd()):\n",
    "    #if yes then we are back at the root of the notebook, change that\n",
    "    os.chdir(dirname)\n",
    "results_processing.remove_done_batchs('batch_dexom/batch/','working_divers/',relax_param=False)\n",
    "print(len(glob.glob('batch_dexom/batch/*.CEL*.sh',recursive=False)),' batchs to relaunch')"
   ]
  },
  {
   "cell_type": "markdown",
   "id": "2b96ed2d-aa96-4732-bdaa-ce467f360e4b",
   "metadata": {},
   "source": [
    "### Concatenate solutions in one csv file per biological condition and replicate"
   ]
  },
  {
   "cell_type": "code",
   "execution_count": 10,
   "id": "a3ae7d35-5976-46cd-9a57-e8077ff470c7",
   "metadata": {},
   "outputs": [
    {
     "name": "stderr",
     "output_type": "stream",
     "text": [
      "100%|██████████| 2/2 [00:50<00:00, 25.26s/it]"
     ]
    },
    {
     "name": "stdout",
     "output_type": "stream",
     "text": [
      "End of Queue\n"
     ]
    },
    {
     "name": "stderr",
     "output_type": "stream",
     "text": [
      "\n"
     ]
    },
    {
     "data": {
      "text/plain": [
       "<multiprocessing.queues.JoinableQueue at 0x299ae04c9a0>"
      ]
     },
     "execution_count": 10,
     "metadata": {},
     "output_type": "execute_result"
    }
   ],
   "source": [
    "#go into the relevant dir\n",
    "dirname = str(props.get(\"working_path\").data)+str(props.get(\"dose\").data).lower()+'_'+str(props.get(\"time\").data).replace(' ','_')\n",
    "if os.path.basename(dirname) not in os.path.basename(os.getcwd()):\n",
    "    #if yes then we are back at the root of the notebook, change that\n",
    "    os.chdir(dirname)\n",
    "results_processing.concatenate_solutions(\"working_divers\",\"full_div_enum_set\",col_index=\"\",ncpus=2)"
   ]
  },
  {
   "attachments": {},
   "cell_type": "markdown",
   "id": "50e6005c-836c-4a7d-9b38-2eee93840617",
   "metadata": {},
   "source": [
    "### Remove zero biomass solutions"
   ]
  },
  {
   "cell_type": "code",
   "execution_count": 11,
   "id": "c725ee80-0b7b-4acf-bb44-866b459fba9e",
   "metadata": {},
   "outputs": [],
   "source": [
    "#go into the relevant dir\n",
    "dirname = str(props.get(\"working_path\").data)+str(props.get(\"dose\").data).lower()+'_'+str(props.get(\"time\").data).replace(' ','_')\n",
    "if os.path.basename(dirname) not in os.path.basename(os.getcwd()):\n",
    "    #if yes then we are back at the root of the notebook, change that\n",
    "    os.chdir(dirname)\n",
    "results_processing.remove_zerobiomass_solutions('full_rxn_enum_set','../input_data/recon2_2_reactions.csv')\n",
    "results_processing.remove_zerobiomass_solutions('full_div_enum_set','../input_data/recon2_2_reactions.csv')"
   ]
  },
  {
   "cell_type": "markdown",
   "id": "675788fe-a86f-4629-af38-8c5072c27726",
   "metadata": {},
   "source": [
    "### Concatenate the solutions"
   ]
  },
  {
   "cell_type": "code",
   "execution_count": 12,
   "id": "6cc44efe-30dc-486c-8b04-bc0f0caba6f0",
   "metadata": {},
   "outputs": [
    {
     "name": "stderr",
     "output_type": "stream",
     "text": [
      "100%|██████████| 2/2 [01:32<00:00, 46.32s/it]"
     ]
    },
    {
     "name": "stdout",
     "output_type": "stream",
     "text": [
      "End of Queue\n"
     ]
    },
    {
     "name": "stderr",
     "output_type": "stream",
     "text": [
      "\n"
     ]
    },
    {
     "data": {
      "text/plain": [
       "<multiprocessing.queues.JoinableQueue at 0x299af1861f0>"
      ]
     },
     "execution_count": 12,
     "metadata": {},
     "output_type": "execute_result"
    }
   ],
   "source": [
    "#go into the relevant dir\n",
    "dirname = str(props.get(\"working_path\").data)+str(props.get(\"dose\").data).lower()+'_'+str(props.get(\"time\").data).replace(' ','_')\n",
    "if os.path.basename(dirname) not in os.path.basename(os.getcwd()):\n",
    "    #if yes then we are back at the root of the notebook, change that\n",
    "    os.chdir(dirname)\n",
    "if \"full_enum\" not in os.listdir():\n",
    "    os.mkdir(\"full_enum\")\n",
    "#this function is too complex : TODO recode\n",
    "results_processing.concatenate_solutions('working_divers', 'full_enum',col_index=\"\",single_csv=False,ncpus=2, restart=False, combine_r_d_enum=True)"
   ]
  },
  {
   "attachments": {},
   "cell_type": "markdown",
   "id": "511f6ead",
   "metadata": {},
   "source": [
    "### Compute activation frequencies for all full enum solution's file"
   ]
  },
  {
   "cell_type": "code",
   "execution_count": 7,
   "id": "d6aab00c",
   "metadata": {},
   "outputs": [],
   "source": [
    "os.chdir(props.get(\"working_path\").data)"
   ]
  },
  {
   "cell_type": "code",
   "execution_count": 9,
   "id": "5dc5f5be",
   "metadata": {},
   "outputs": [
    {
     "data": {
      "text/html": [
       "<div>\n",
       "<style scoped>\n",
       "    .dataframe tbody tr th:only-of-type {\n",
       "        vertical-align: middle;\n",
       "    }\n",
       "\n",
       "    .dataframe tbody tr th {\n",
       "        vertical-align: top;\n",
       "    }\n",
       "\n",
       "    .dataframe thead th {\n",
       "        text-align: right;\n",
       "    }\n",
       "</style>\n",
       "<table border=\"1\" class=\"dataframe\">\n",
       "  <thead>\n",
       "    <tr style=\"text-align: right;\">\n",
       "      <th></th>\n",
       "      <th>Barcode</th>\n",
       "      <th>13DAMPPOX</th>\n",
       "      <th>1a_24_25VITD2Hm</th>\n",
       "      <th>1a_24_25VITD3Hm</th>\n",
       "      <th>1a_25VITD2Hm</th>\n",
       "      <th>1a_25VITD3Hm</th>\n",
       "      <th>1PPDCRp</th>\n",
       "      <th>24_25VITD2Hm</th>\n",
       "      <th>24_25VITD3Hm</th>\n",
       "      <th>25VITD2Hm</th>\n",
       "      <th>...</th>\n",
       "      <th>FAOXC5030m</th>\n",
       "      <th>FAOXC6040m</th>\n",
       "      <th>FAOXC61_3Zm</th>\n",
       "      <th>FAOXC7050m</th>\n",
       "      <th>FAOXC8060m</th>\n",
       "      <th>FAOXC81_5Zm</th>\n",
       "      <th>FAOXC9070m</th>\n",
       "      <th>FAOXCPRIST1x</th>\n",
       "      <th>FAOXCPRIST2x</th>\n",
       "      <th>FAOXCPRIST3x</th>\n",
       "    </tr>\n",
       "  </thead>\n",
       "  <tbody>\n",
       "    <tr>\n",
       "      <th>003016028014.CEL</th>\n",
       "      <td>003016028014.CEL</td>\n",
       "      <td>0.905092</td>\n",
       "      <td>0.0</td>\n",
       "      <td>0.0</td>\n",
       "      <td>0.0</td>\n",
       "      <td>0.0</td>\n",
       "      <td>0.840302</td>\n",
       "      <td>0.0</td>\n",
       "      <td>0.0</td>\n",
       "      <td>0.0</td>\n",
       "      <td>...</td>\n",
       "      <td>0.999897</td>\n",
       "      <td>0.878804</td>\n",
       "      <td>1.0</td>\n",
       "      <td>0.999897</td>\n",
       "      <td>0.895156</td>\n",
       "      <td>1.0</td>\n",
       "      <td>0.999897</td>\n",
       "      <td>0.976713</td>\n",
       "      <td>0.976713</td>\n",
       "      <td>0.976713</td>\n",
       "    </tr>\n",
       "    <tr>\n",
       "      <th>003016028015.CEL</th>\n",
       "      <td>003016028015.CEL</td>\n",
       "      <td>0.890194</td>\n",
       "      <td>0.0</td>\n",
       "      <td>0.0</td>\n",
       "      <td>0.0</td>\n",
       "      <td>0.0</td>\n",
       "      <td>0.841052</td>\n",
       "      <td>0.0</td>\n",
       "      <td>0.0</td>\n",
       "      <td>0.0</td>\n",
       "      <td>...</td>\n",
       "      <td>1.000000</td>\n",
       "      <td>0.914003</td>\n",
       "      <td>1.0</td>\n",
       "      <td>1.000000</td>\n",
       "      <td>0.957599</td>\n",
       "      <td>1.0</td>\n",
       "      <td>1.000000</td>\n",
       "      <td>0.973146</td>\n",
       "      <td>0.973146</td>\n",
       "      <td>0.973146</td>\n",
       "    </tr>\n",
       "    <tr>\n",
       "      <th>003016028020.CEL</th>\n",
       "      <td>003016028020.CEL</td>\n",
       "      <td>0.834338</td>\n",
       "      <td>0.0</td>\n",
       "      <td>0.0</td>\n",
       "      <td>0.0</td>\n",
       "      <td>0.0</td>\n",
       "      <td>0.859634</td>\n",
       "      <td>0.0</td>\n",
       "      <td>0.0</td>\n",
       "      <td>0.0</td>\n",
       "      <td>...</td>\n",
       "      <td>0.998708</td>\n",
       "      <td>0.858558</td>\n",
       "      <td>1.0</td>\n",
       "      <td>0.998708</td>\n",
       "      <td>0.887621</td>\n",
       "      <td>1.0</td>\n",
       "      <td>0.998708</td>\n",
       "      <td>0.948547</td>\n",
       "      <td>0.948547</td>\n",
       "      <td>0.948547</td>\n",
       "    </tr>\n",
       "    <tr>\n",
       "      <th>003016028021.CEL</th>\n",
       "      <td>003016028021.CEL</td>\n",
       "      <td>0.855815</td>\n",
       "      <td>0.0</td>\n",
       "      <td>0.0</td>\n",
       "      <td>0.0</td>\n",
       "      <td>0.0</td>\n",
       "      <td>0.900576</td>\n",
       "      <td>0.0</td>\n",
       "      <td>0.0</td>\n",
       "      <td>0.0</td>\n",
       "      <td>...</td>\n",
       "      <td>0.999091</td>\n",
       "      <td>0.847429</td>\n",
       "      <td>1.0</td>\n",
       "      <td>0.999091</td>\n",
       "      <td>0.875922</td>\n",
       "      <td>1.0</td>\n",
       "      <td>0.999091</td>\n",
       "      <td>0.957563</td>\n",
       "      <td>0.957563</td>\n",
       "      <td>0.957563</td>\n",
       "    </tr>\n",
       "  </tbody>\n",
       "</table>\n",
       "<p>4 rows × 7786 columns</p>\n",
       "</div>"
      ],
      "text/plain": [
       "                           Barcode  13DAMPPOX  1a_24_25VITD2Hm  \\\n",
       "003016028014.CEL  003016028014.CEL   0.905092              0.0   \n",
       "003016028015.CEL  003016028015.CEL   0.890194              0.0   \n",
       "003016028020.CEL  003016028020.CEL   0.834338              0.0   \n",
       "003016028021.CEL  003016028021.CEL   0.855815              0.0   \n",
       "\n",
       "                  1a_24_25VITD3Hm  1a_25VITD2Hm  1a_25VITD3Hm   1PPDCRp  \\\n",
       "003016028014.CEL              0.0           0.0           0.0  0.840302   \n",
       "003016028015.CEL              0.0           0.0           0.0  0.841052   \n",
       "003016028020.CEL              0.0           0.0           0.0  0.859634   \n",
       "003016028021.CEL              0.0           0.0           0.0  0.900576   \n",
       "\n",
       "                  24_25VITD2Hm  24_25VITD3Hm  25VITD2Hm  ...  FAOXC5030m  \\\n",
       "003016028014.CEL           0.0           0.0        0.0  ...    0.999897   \n",
       "003016028015.CEL           0.0           0.0        0.0  ...    1.000000   \n",
       "003016028020.CEL           0.0           0.0        0.0  ...    0.998708   \n",
       "003016028021.CEL           0.0           0.0        0.0  ...    0.999091   \n",
       "\n",
       "                  FAOXC6040m  FAOXC61_3Zm  FAOXC7050m  FAOXC8060m  \\\n",
       "003016028014.CEL    0.878804          1.0    0.999897    0.895156   \n",
       "003016028015.CEL    0.914003          1.0    1.000000    0.957599   \n",
       "003016028020.CEL    0.858558          1.0    0.998708    0.887621   \n",
       "003016028021.CEL    0.847429          1.0    0.999091    0.875922   \n",
       "\n",
       "                  FAOXC81_5Zm  FAOXC9070m  FAOXCPRIST1x  FAOXCPRIST2x  \\\n",
       "003016028014.CEL          1.0    0.999897      0.976713      0.976713   \n",
       "003016028015.CEL          1.0    1.000000      0.973146      0.973146   \n",
       "003016028020.CEL          1.0    0.998708      0.948547      0.948547   \n",
       "003016028021.CEL          1.0    0.999091      0.957563      0.957563   \n",
       "\n",
       "                  FAOXCPRIST3x  \n",
       "003016028014.CEL      0.976713  \n",
       "003016028015.CEL      0.973146  \n",
       "003016028020.CEL      0.948547  \n",
       "003016028021.CEL      0.957563  \n",
       "\n",
       "[4 rows x 7786 columns]"
      ]
     },
     "execution_count": 9,
     "metadata": {},
     "output_type": "execute_result"
    }
   ],
   "source": [
    "rList = list(pd.read_csv(\"../\"+props.get(\"rListFile\").data).iloc[:,0])\n",
    "freq_table = pd.DataFrame()\n",
    "for dir in glob.iglob('./**/full_enum',recursive=True):\n",
    "    freq_table = pd.concat([freq_table,dars.calculate_frequencies_for_dir(dir,rList = rList)])\n",
    "freq_table"
   ]
  },
  {
   "cell_type": "code",
   "execution_count": 73,
   "id": "48be06e5",
   "metadata": {},
   "outputs": [],
   "source": [
    "def calculate_frequencies(data, name):\n",
    "    prob_vec = [sum(data.iloc[:, col])/data.shape[0] for col in range(data.shape[1])]\n",
    "    return pd.Series(prob_vec, name=name)\n",
    "\n",
    "\n",
    "def calculate_frequencies_for_dir(full_enum_path,rList,output_file= \"\"):\n",
    "    csv_files = os.listdir(full_enum_path)\n",
    "    prob_table = pd.DataFrame(np.zeros((1, len(rList))))\n",
    "    prob_table = pd.concat([calculate_frequencies(pd.read_csv(full_enum_path+\"/\"+csv_file,index_col=0), csv_file.split('_')[0])\n",
    "                            for csv_file in csv_files], axis=1).transpose()\n",
    "    prob_table.insert(0,\"Barcode\",prob_table.index)\n",
    "    rList.insert(0,\"Barcode\")\n",
    "    prob_table.columns = rList\n",
    "    if len(output_file)> 0:\n",
    "         prob_table.to_csv(output_file)\n",
    "    return prob_table"
   ]
  },
  {
   "cell_type": "code",
   "execution_count": 71,
   "id": "80245720",
   "metadata": {},
   "outputs": [
    {
     "data": {
      "text/html": [
       "<div>\n",
       "<style scoped>\n",
       "    .dataframe tbody tr th:only-of-type {\n",
       "        vertical-align: middle;\n",
       "    }\n",
       "\n",
       "    .dataframe tbody tr th {\n",
       "        vertical-align: top;\n",
       "    }\n",
       "\n",
       "    .dataframe thead th {\n",
       "        text-align: right;\n",
       "    }\n",
       "</style>\n",
       "<table border=\"1\" class=\"dataframe\">\n",
       "  <thead>\n",
       "    <tr style=\"text-align: right;\">\n",
       "      <th></th>\n",
       "      <th>Barcode</th>\n",
       "      <th>13DAMPPOX</th>\n",
       "      <th>1a_24_25VITD2Hm</th>\n",
       "      <th>1a_24_25VITD3Hm</th>\n",
       "      <th>1a_25VITD2Hm</th>\n",
       "      <th>1a_25VITD3Hm</th>\n",
       "      <th>1PPDCRp</th>\n",
       "      <th>24_25VITD2Hm</th>\n",
       "      <th>24_25VITD3Hm</th>\n",
       "      <th>25VITD2Hm</th>\n",
       "      <th>...</th>\n",
       "      <th>FAOXC5030m</th>\n",
       "      <th>FAOXC6040m</th>\n",
       "      <th>FAOXC61_3Zm</th>\n",
       "      <th>FAOXC7050m</th>\n",
       "      <th>FAOXC8060m</th>\n",
       "      <th>FAOXC81_5Zm</th>\n",
       "      <th>FAOXC9070m</th>\n",
       "      <th>FAOXCPRIST1x</th>\n",
       "      <th>FAOXCPRIST2x</th>\n",
       "      <th>FAOXCPRIST3x</th>\n",
       "    </tr>\n",
       "  </thead>\n",
       "  <tbody>\n",
       "    <tr>\n",
       "      <th>003016028014.CEL</th>\n",
       "      <td>003016028014.CEL</td>\n",
       "      <td>0.905092</td>\n",
       "      <td>0.0</td>\n",
       "      <td>0.0</td>\n",
       "      <td>0.0</td>\n",
       "      <td>0.0</td>\n",
       "      <td>0.840302</td>\n",
       "      <td>0.0</td>\n",
       "      <td>0.0</td>\n",
       "      <td>0.0</td>\n",
       "      <td>...</td>\n",
       "      <td>0.999897</td>\n",
       "      <td>0.878804</td>\n",
       "      <td>1.0</td>\n",
       "      <td>0.999897</td>\n",
       "      <td>0.895156</td>\n",
       "      <td>1.0</td>\n",
       "      <td>0.999897</td>\n",
       "      <td>0.976713</td>\n",
       "      <td>0.976713</td>\n",
       "      <td>0.976713</td>\n",
       "    </tr>\n",
       "    <tr>\n",
       "      <th>003016028015.CEL</th>\n",
       "      <td>003016028015.CEL</td>\n",
       "      <td>0.890194</td>\n",
       "      <td>0.0</td>\n",
       "      <td>0.0</td>\n",
       "      <td>0.0</td>\n",
       "      <td>0.0</td>\n",
       "      <td>0.841052</td>\n",
       "      <td>0.0</td>\n",
       "      <td>0.0</td>\n",
       "      <td>0.0</td>\n",
       "      <td>...</td>\n",
       "      <td>1.000000</td>\n",
       "      <td>0.914003</td>\n",
       "      <td>1.0</td>\n",
       "      <td>1.000000</td>\n",
       "      <td>0.957599</td>\n",
       "      <td>1.0</td>\n",
       "      <td>1.000000</td>\n",
       "      <td>0.973146</td>\n",
       "      <td>0.973146</td>\n",
       "      <td>0.973146</td>\n",
       "    </tr>\n",
       "  </tbody>\n",
       "</table>\n",
       "<p>2 rows × 7786 columns</p>\n",
       "</div>"
      ],
      "text/plain": [
       "                           Barcode  13DAMPPOX  1a_24_25VITD2Hm  \\\n",
       "003016028014.CEL  003016028014.CEL   0.905092              0.0   \n",
       "003016028015.CEL  003016028015.CEL   0.890194              0.0   \n",
       "\n",
       "                  1a_24_25VITD3Hm  1a_25VITD2Hm  1a_25VITD3Hm   1PPDCRp  \\\n",
       "003016028014.CEL              0.0           0.0           0.0  0.840302   \n",
       "003016028015.CEL              0.0           0.0           0.0  0.841052   \n",
       "\n",
       "                  24_25VITD2Hm  24_25VITD3Hm  25VITD2Hm  ...  FAOXC5030m  \\\n",
       "003016028014.CEL           0.0           0.0        0.0  ...    0.999897   \n",
       "003016028015.CEL           0.0           0.0        0.0  ...    1.000000   \n",
       "\n",
       "                  FAOXC6040m  FAOXC61_3Zm  FAOXC7050m  FAOXC8060m  \\\n",
       "003016028014.CEL    0.878804          1.0    0.999897    0.895156   \n",
       "003016028015.CEL    0.914003          1.0    1.000000    0.957599   \n",
       "\n",
       "                  FAOXC81_5Zm  FAOXC9070m  FAOXCPRIST1x  FAOXCPRIST2x  \\\n",
       "003016028014.CEL          1.0    0.999897      0.976713      0.976713   \n",
       "003016028015.CEL          1.0    1.000000      0.973146      0.973146   \n",
       "\n",
       "                  FAOXCPRIST3x  \n",
       "003016028014.CEL      0.976713  \n",
       "003016028015.CEL      0.973146  \n",
       "\n",
       "[2 rows x 7786 columns]"
      ]
     },
     "execution_count": 71,
     "metadata": {},
     "output_type": "execute_result"
    }
   ],
   "source": [
    "freq_table"
   ]
  }
 ],
 "metadata": {
  "kernelspec": {
   "display_name": "Python 3",
   "language": "python",
   "name": "python3"
  },
  "language_info": {
   "codemirror_mode": {
    "name": "ipython",
    "version": 3
   },
   "file_extension": ".py",
   "mimetype": "text/x-python",
   "name": "python",
   "nbconvert_exporter": "python",
   "pygments_lexer": "ipython3",
   "version": "3.9.0"
  }
 },
 "nbformat": 4,
 "nbformat_minor": 5
}
