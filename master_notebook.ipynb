{
 "cells": [
  {
   "attachments": {},
   "cell_type": "markdown",
   "metadata": {},
   "source": [
    "## Master notebook to call the three notebooks with their default parameters"
   ]
  },
  {
   "cell_type": "code",
   "execution_count": null,
   "metadata": {},
   "outputs": [],
   "source": [
    "%%capture\n",
    "#required modules\n",
    "!pip install manamodeller"
   ]
  },
  {
   "cell_type": "code",
   "execution_count": null,
   "metadata": {},
   "outputs": [],
   "source": [
    "import re\n",
    "#run partial enumeration notebook for control test case (and change props.properties accordingly)\n",
    "with open(\"props.properties\",'r') as propsfile:\n",
    "    props_data = propsfile.read()\n",
    "    props_data = re.sub(\"dose=.*\",\"dose=Control\",props_data)\n",
    "with open(\"props.properties\",\"w\") as propsfile:\n",
    "    propsfile.write(props_data)\n",
    "%run ./partial_enumeration.ipynb\n",
    "#run partial enumeration notebook for high dose test case (and change props.properties accordingly)\n",
    "with open(\"props.properties\",'r') as propsfile:\n",
    "    props_data = propsfile.read()\n",
    "    props_data = re.sub(\"dose=.*\",\"dose=High\",props_data)\n",
    "with open(\"props.properties\",\"w\") as propsfile:\n",
    "    propsfile.write(props_data)\n",
    "%run ./partial_enumeration.ipynb #change the props file\n",
    "#run the dars_calculation notebook on the test case (based on the content of test folder and results of the partial enumeration notebook)\n",
    "%run ./dars_calculation.ipynb\n",
    "#run the analysis notebook on the test case (based on the content of test folder and results of the dars_calculation notebook)\n",
    "%run ./analysis.ipynb"
   ]
  }
 ],
 "metadata": {
  "kernelspec": {
   "display_name": "Python 3 (ipykernel)",
   "language": "python",
   "name": "python3"
  },
  "language_info": {
   "codemirror_mode": {
    "name": "ipython",
    "version": 3
   },
   "file_extension": ".py",
   "mimetype": "text/x-python",
   "name": "python",
   "nbconvert_exporter": "python",
   "pygments_lexer": "ipython3",
   "version": "3.9.0"
  },
  "vscode": {
   "interpreter": {
    "hash": "e909ccabb7a8ccf58a4271a67ee3d5ad589421080b6e726e08d33dd22e8d7d1e"
   }
  }
 },
 "nbformat": 4,
 "nbformat_minor": 4
}
