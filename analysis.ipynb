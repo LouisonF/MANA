{
 "cells": [
  {
   "attachments": {},
   "cell_type": "markdown",
   "id": "1f55fa4b-c1e2-4747-bb65-8d3517d187df",
   "metadata": {},
   "source": [
    "# Analysis Workflow #"
   ]
  },
  {
   "attachments": {},
   "cell_type": "markdown",
   "id": "032b65ba-b17a-404f-babc-86f1d531a2a5",
   "metadata": {},
   "source": [
    "#### Imports"
   ]
  },
  {
   "cell_type": "code",
   "execution_count": null,
   "id": "e244fa1a",
   "metadata": {},
   "outputs": [],
   "source": [
    "import subprocess\n",
    "import os\n",
    "import glob\n",
    "import pandas as pd\n",
    "import numpy as np\n",
    "\n",
    "from cobra import io\n",
    "from jproperties import Properties\n",
    "from mana import results_analysis\n",
    "\n",
    "#### Java 11 or later must be installed on your machine to run this notebook\n"
   ]
  },
  {
   "attachments": {},
   "cell_type": "markdown",
   "id": "f6ec9c50-6488-4960-be41-f64b583dc3a4",
   "metadata": {},
   "source": [
    "### Load properties file"
   ]
  },
  {
   "cell_type": "code",
   "execution_count": null,
   "id": "f9743fd2",
   "metadata": {},
   "outputs": [],
   "source": [
    "props = Properties()\n",
    "try:\n",
    "    with open('props.properties', 'rb') as config_file:\n",
    "        props.load(config_file)\n",
    "except FileNotFoundError as e:\n",
    "    print(e)\n",
    "    print(\"\\033[91m\\033[1m \"+\"You must provide a props.properties file\"+\" \\033[0m\\033[91m\")"
   ]
  },
  {
   "attachments": {},
   "cell_type": "markdown",
   "id": "0b0a484d",
   "metadata": {},
   "source": [
    "### Load required datasets"
   ]
  },
  {
   "cell_type": "code",
   "execution_count": null,
   "id": "ef70895a",
   "metadata": {},
   "outputs": [],
   "source": [
    "### Load the metadata file\n",
    "pheno = pd.read_csv(props.get(\"pheno\").data,sep=\"\\t\",index_col=0)\n",
    "#path to input_data\n",
    "input_path = props.get(\"working_path\").data+\"input_data/\""
   ]
  },
  {
   "attachments": {},
   "cell_type": "markdown",
   "id": "b11c0c4d",
   "metadata": {},
   "source": [
    "### Create analysis directory and subdirectories"
   ]
  },
  {
   "cell_type": "code",
   "execution_count": null,
   "id": "a1177855",
   "metadata": {},
   "outputs": [],
   "source": [
    "if \"analysis\" not in os.listdir(str(props.get(\"working_path\").data)):\n",
    "    os.mkdir(str(props.get(\"working_path\").data)+\"analysis\")\n",
    "for subdir in [\"dist_matrices\",\"reaction_clusters\",\"clusters_annotation_tables\",\"subnetwork_gmls\",\"subnetwork_reactions\"]:\n",
    "    if subdir not in os.listdir(str(props.get(\"working_path\").data)+\"analysis/\"):\n",
    "        os.mkdir(str(props.get(\"working_path\").data)+\"analysis/\"+subdir)"
   ]
  },
  {
   "attachments": {},
   "cell_type": "markdown",
   "id": "ca399d23-dac7-46d4-a389-30330ab2a8af",
   "metadata": {},
   "source": [
    "#### Compute the distance matrix for the differentially activated reactions"
   ]
  },
  {
   "cell_type": "code",
   "execution_count": null,
   "id": "997b446d-16dc-43b9-9d97-cb83a78affad",
   "metadata": {},
   "outputs": [],
   "source": [
    "#Read a reaction list file\n",
    "for file in os.listdir(props.get(\"working_path\").data+\"/DARS/\"):\n",
    "    cmd = \"java -cp met4j-toolbox-1.2.2.jar\"\\\n",
    "    + \" fr.inrae.toulouse.metexplore.met4j_toolbox.networkAnalysis.ReactionDistanceMatrix\"\\\n",
    "    + \" -i \"+input_path+\"recon2v2_biomass_corrected.sbml\"\\\n",
    "    + \" -s \"+input_path+\"DARS/\"+file\\\n",
    "    + \" -o \"+str(props.get(\"working_path\").data)+\"analysis/dist_matrices/\"+'_'.join(file.split('_')[0:3])+'_extracellexclude.tsv'\\\n",
    "    + \" -sc \"+input_path+\"recon22_scs_metex.txt\"\\\n",
    "    + \" -re \"+input_path+\"blocked_inactives_phh_exchange_exportextracell_reactions.txt\" \\\n",
    "    + \" -u &\"\n",
    "    print(cmd)\n",
    "    #call ReactionDistanceMatrix Met4j app\n",
    "    subprocess.run(cmd,capture_output=False,shell=True)\n",
    "    "
   ]
  },
  {
   "attachments": {},
   "cell_type": "markdown",
   "id": "071f4706-61bb-4774-b9cf-1db7a366d2b2",
   "metadata": {},
   "source": [
    "#### Plot the dendrogram and identify interesting clusters of reactions"
   ]
  },
  {
   "cell_type": "code",
   "execution_count": null,
   "id": "c8d1dead-9624-49a3-aff5-eeb78c5478d9",
   "metadata": {},
   "outputs": [],
   "source": [
    "### Read computed distances matrices\n",
    "for mat in os.listdir(str(props.get(\"working_path\").data)+\"analysis/dist_matrices/\"):\n",
    "    prefix = mat.replace('.tsv','')+'_cluster_'\n",
    "    title = mat.split('/')[-1].replace('.tsv','')+\" subnetwork reaction similarity\"\n",
    "    matrix = pd.read_csv(str(props.get(\"working_path\").data)+\"analysis/dist_matrices/\"+mat,sep=',',index_col='id')\n",
    "    #remove disconnected reactions\n",
    "    matrix = matrix[~matrix.isin([np.nan, np.inf, -np.inf])]\n",
    "    #thresh is the number of NA in row/col in order to remove this row/col\n",
    "    matrix.dropna(inplace=True,axis=0,thresh=matrix.shape[0]*0.7)\n",
    "    matrix.dropna(inplace=True,axis=1,thresh=matrix.shape[0]*0.7)\n",
    "    results_analysis.extract_reactions_from_clusters(matrix,title=title,write_files=True,file_prefix=str(props.get(\"working_path\").data)+\"analysis/reaction_clusters/\"+mat.replace('.tsv','')+'_cluster',header=True)"
   ]
  },
  {
   "cell_type": "code",
   "execution_count": null,
   "id": "32cc17bc-1d1c-4f1f-abd3-fd8c72291598",
   "metadata": {},
   "outputs": [],
   "source": [
    "#Generate an annotation table for each cluster\n",
    "#load model\n",
    "#dict compartments id to compartments names\n",
    "# comp = {\"c\":\"Cytoplasm\",\"m\":\"Mitochondrion\",\"x\":\"Peroxisome\",\"l\":\"Lysosome\",\"g\":\"Golgi appartus\",\"e\":\"Extracellular space\",\"r\":\"Endoplasic reticulum\",\"n\":\"Nucleus\",\"i\":\"Mitochondrial intermembrane space\"}\n",
    "recon_model = io.load_json_model(str(props.get(\"modelFile\").data))\n",
    "recon_model.id = 'recon2.2'\n",
    "#load hgnc data\n",
    "hgnc_data = pd.read_csv(str(props.get(\"mappingFile\").data), sep='\\t', dtype='unicode')\n",
    "#reaction file ?\n",
    "#glob.glob(\"working_files/computed_scores/\"+str(reaction_file).split('_')[0]+'*_computed_scores.tsv')[0]\n",
    "#fill the df\n",
    "for file in os.listdir(str(props.get(\"working_path\").data)+\"analysis/reaction_clusters/\"):\n",
    "    results_analysis.generate_annotation_table(str(props.get(\"working_path\").data)+\"analysis/reaction_clusters/\"+file,\\\n",
    "                                               recon_model,hgnc_data,\\\n",
    "                                                DARs_direction = glob.glob(str(props.get(\"working_path\").data)+\"DARS_direction/\"+file.split(\"_\")[0]+\"*.tsv\")[0],\\\n",
    "                                                    outputFile=str(props.get(\"working_path\").data+\"analysis/clusters_annotation_tables/\"+file).replace('.tsv','')+'_table.xlsx')"
   ]
  },
  {
   "attachments": {},
   "cell_type": "markdown",
   "id": "b876b969-3932-49f6-89ad-05650a1bd46f",
   "metadata": {},
   "source": [
    "#### Extract a subnetwork for each interesting clusters of reaction"
   ]
  },
  {
   "cell_type": "code",
   "execution_count": null,
   "id": "c8e2e7de-7323-430b-9cf5-2da4c9870cec",
   "metadata": {},
   "outputs": [],
   "source": [
    "#Ask the user for a condition to analyse\n",
    "# file_prefix = str(input(\"Enter a condition to analyse(e.g ethanol_highvsctrls_24h))\"))\n",
    "#TODO implement a thread pool for the subprocesses. \n",
    "file_prefix=\"\"\n",
    "#Read a reaction list file\n",
    "for file in os.listdir(str(props.get(\"working_path\").data)+\"analysis/reaction_clusters/\"):\n",
    "    if (file_prefix in file or file_prefix==\"\"):\n",
    "        cmd = \"java -cp met4j-toolbox-1.2.2.jar\"\\\n",
    "        + \" fr.inrae.toulouse.metexplore.met4j_toolbox.networkAnalysis.ExtractSubReactionNetwork\"\\\n",
    "        + \" -i \"+input_path+\"/recon2v2_biomass_corrected.sbml\"\\\n",
    "        + \" -s \"+str(props.get(\"working_path\").data)+\"analysis/reaction_clusters/\"+file \\\n",
    "        + \" -t \"+str(props.get(\"working_path\").data)+\"analysis/reaction_clusters/\"+file \\\n",
    "        + \" -o \"+str(props.get(\"working_path\").data)+\"analysis/subnetwork_gmls/\"+file.replace(\".tsv\",\"\")+'_undirected_r2_noisecond_extracell.gml'\\\n",
    "        + \" -sc \"+input_path+\"/recon22_scs_metex.txt\"\\\n",
    "        + \" -re \"+input_path+\"/blocked_inactives_phh_exchange_exportextracell_reactions.txt\"\\\n",
    "        + \" -st\"\\\n",
    "        + \" -u &\"\n",
    "        print(cmd)\n",
    "        #call ReactionDistanceMatrix Met4j app\n",
    "        subprocess.run(cmd,capture_output=False,shell=True)"
   ]
  },
  {
   "attachments": {},
   "cell_type": "markdown",
   "id": "21790d80-c01c-4284-ac70-ef3355ff78b7",
   "metadata": {},
   "source": [
    "#### Get subnetworks reactions"
   ]
  },
  {
   "cell_type": "code",
   "execution_count": null,
   "id": "b56e421f-db21-4ba1-a721-255ee5b70583",
   "metadata": {},
   "outputs": [],
   "source": [
    "#For a temporary visualisation, use the results_analysis.visualize_gml function\n",
    "#For a complete visualization, use MetExplore Viz(https://metexplore.toulouse.inrae.fr/index.html/)\n",
    "pattern='.'\n",
    "for file in os.listdir(str(props.get(\"working_path\").data)+\"analysis/subnetwork_gmls/\"):\n",
    "    if pattern in file:\n",
    "        rlist = results_analysis.get_node_list(str(props.get(\"working_path\").data)+\"analysis/subnetwork_gmls/\"+file)\n",
    "        with open(str(props.get(\"working_path\").data)+\"analysis/subnetwork_reactions/\"+file.replace('.tab','').replace(\".gml\",'.txt'),'w') as w_hdler:\n",
    "            for r in rlist:\n",
    "                w_hdler.write(r+'\\n')"
   ]
  }
 ],
 "metadata": {
  "kernelspec": {
   "display_name": "Python 3 (ipykernel)",
   "language": "python",
   "name": "python3"
  },
  "language_info": {
   "codemirror_mode": {
    "name": "ipython",
    "version": 3
   },
   "file_extension": ".py",
   "mimetype": "text/x-python",
   "name": "python",
   "nbconvert_exporter": "python",
   "pygments_lexer": "ipython3",
   "version": "3.9.0"
  }
 },
 "nbformat": 4,
 "nbformat_minor": 5
}
